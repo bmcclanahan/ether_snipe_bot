{
 "cells": [
  {
   "cell_type": "code",
   "execution_count": null,
   "metadata": {},
   "outputs": [],
   "source": [
    "import glob\n",
    "\n",
    "new_pair_files = glob.glob('../../../ether_new_transactions/new_pairs*')\n",
    "liquidity_update_files = glob.glob('../../../ether_new_transactions/liquidity_updates*')"
   ]
  },
  {
   "cell_type": "code",
   "execution_count": null,
   "metadata": {},
   "outputs": [],
   "source": [
    "import pandas as pd\n",
    "\n",
    "def load_dfs(files):\n",
    "    dfs = []\n",
    "    for f in files:\n",
    "        df = pd.read_csv(f)\n",
    "        if df.shape[0] > 0:\n",
    "            df.loc[:, 'filename'] = f.split('/')[-1]\n",
    "            dfs.append(df)\n",
    "    return pd.concat(\n",
    "        dfs, axis=0, ignore_index=True\n",
    "    )"
   ]
  },
  {
   "cell_type": "code",
   "execution_count": null,
   "metadata": {},
   "outputs": [],
   "source": [
    "import pandas as pd\n",
    "\n",
    "new_pairs = load_dfs(new_pair_files)\n",
    "liquidity_updates = load_dfs(liquidity_update_files)"
   ]
  },
  {
   "cell_type": "code",
   "execution_count": null,
   "metadata": {},
   "outputs": [],
   "source": [
    "new_pairs.columns = list(map(lambda x: x.strip(), new_pairs.columns))\n",
    "liquidity_updates.columns = list(map(lambda x: x.strip(), liquidity_updates.columns))"
   ]
  },
  {
   "cell_type": "code",
   "execution_count": null,
   "metadata": {},
   "outputs": [],
   "source": [
    "liquidity_updates.token = liquidity_updates.token.apply(lambda x: x.strip())"
   ]
  },
  {
   "cell_type": "code",
   "execution_count": null,
   "metadata": {},
   "outputs": [],
   "source": [
    "new_pairs.loc[:, 'old_time'] = new_pairs.time\n",
    "liquidity_updates.loc[:, 'old_time'] = liquidity_updates.time"
   ]
  },
  {
   "cell_type": "code",
   "execution_count": null,
   "metadata": {},
   "outputs": [],
   "source": [
    "def convert_time(x):\n",
    "    try:\n",
    "        return pd.Timestamp(x)\n",
    "    except:\n",
    "        return None"
   ]
  },
  {
   "cell_type": "code",
   "execution_count": null,
   "metadata": {},
   "outputs": [],
   "source": [
    "new_pairs.time = new_pairs.time.apply(convert_time)\n",
    "liquidity_updates.time = liquidity_updates.time.apply(convert_time)"
   ]
  },
  {
   "cell_type": "code",
   "execution_count": null,
   "metadata": {},
   "outputs": [],
   "source": [
    "assert liquidity_updates.loc[liquidity_updates.time.isnull()].shape[0] == 0\n",
    "assert new_pairs.loc[new_pairs.time.isnull()].shape[0] == 0"
   ]
  },
  {
   "cell_type": "code",
   "execution_count": null,
   "metadata": {},
   "outputs": [],
   "source": [
    "liquidity_max_min_time = liquidity_updates.groupby('token').agg({'time': ['min', 'max']})\n",
    "liquidity_max_min_time.columns = ['time_min', 'time_max']"
   ]
  },
  {
   "cell_type": "code",
   "execution_count": null,
   "metadata": {},
   "outputs": [],
   "source": [
    "liquidity_max_min_time.loc[:, 'time_diff'] = (liquidity_max_min_time.time_max - liquidity_max_min_time.time_min).dt.total_seconds()"
   ]
  },
  {
   "cell_type": "code",
   "execution_count": null,
   "metadata": {},
   "outputs": [],
   "source": [
    "num_minutes = 30\n",
    "transaction_thresh = 5"
   ]
  },
  {
   "cell_type": "code",
   "execution_count": null,
   "metadata": {},
   "outputs": [],
   "source": [
    "long_lived_tokens = liquidity_max_min_time.loc[liquidity_max_min_time.time_diff > (60 * num_minutes)].index.values"
   ]
  },
  {
   "cell_type": "code",
   "execution_count": null,
   "metadata": {},
   "outputs": [],
   "source": [
    "def calculate_delta(liq_df, new_pairs_df, num_minutes):\n",
    "    liq_df = liq_df.sort_values('time')\n",
    "    liq_df.loc[:, 'init_eth_tok_ratio'] = -1\n",
    "    token = liq_df.token.iloc[0]\n",
    "    row = new_pairs_df.loc[new_pairs_df.token == token].iloc[0]\n",
    "    if row.ether_token_ratio != -1 and row.ether_token_ratio != ' NaN':\n",
    "        init_eth_liq = row.ether_liquidity\n",
    "        init_tok_liq = row.token_liquidity\n",
    "        init_time = row.time\n",
    "    else:\n",
    "        bool_filter = (liq_df.token_liquidity != 0) & (liq_df.ether_liquitity != 0)\n",
    "        if sum(bool_filter == 0):\n",
    "            return liq_df.iloc[:0]\n",
    "        row = liq_df.loc[bool_filter].iloc[0]\n",
    "        init_eth_liq = row.ether_liquitity\n",
    "        init_tok_liq = row.token_liquidity\n",
    "        init_time = row.time\n",
    "\n",
    "    liq_df = liq_df.loc[liq_df.time.between(init_time, init_time + pd.to_timedelta(num_minutes, unit='m'))]\n",
    "    if liq_df.shape[0] == 0:\n",
    "        return liq_df.iloc[:0]\n",
    "    liq_df.loc[:, 'init_eth_tok_ratio'] = init_eth_liq / init_tok_liq\n",
    "    liq_df.loc[:, 'eth_tok_ratio_delta'] = liq_df.ether_token_ratio / liq_df.init_eth_tok_ratio\n",
    "    liq_df.loc[liq_df.num_transactions < transaction_thresh, 'eth_tok_ratio_delta'] = 0\n",
    "    liq_df.loc[:, 'time_delta'] = (liq_df.time - init_time).dt.total_seconds()\n",
    "    liq_df.loc[:, 'eth_tok_ratio_delta_max_time'] = liq_df.loc[liq_df.eth_tok_ratio_delta.idxmax(), 'time_delta']\n",
    "    liq_df.loc[:, 'transaction_rate'] = liq_df.num_transactions / (liq_df.time_delta + 1)\n",
    "    return liq_df\n",
    "        "
   ]
  },
  {
   "cell_type": "code",
   "execution_count": null,
   "metadata": {},
   "outputs": [],
   "source": [
    "liquidity_udpates_enhanced = liquidity_updates.groupby('token').apply(lambda df: calculate_delta(df, new_pairs, num_minutes)).reset_index(drop=True)"
   ]
  },
  {
   "cell_type": "code",
   "execution_count": null,
   "metadata": {},
   "outputs": [],
   "source": [
    "liquidity_aggs = liquidity_udpates_enhanced.groupby('token').agg(\n",
    "    {\n",
    "        'token_name': 'first', 'token_symbol': ['first', 'count'],  \n",
    "        'eth_tok_ratio_delta': ['min', 'mean', 'max'], 'time_delta': ['min', 'max', 'mean'],\n",
    "        'transaction_rate': ['mean', 'max'], 'time': 'first',\n",
    "        'eth_tok_ratio_delta_max_time': 'first'\n",
    "    }\n",
    ")"
   ]
  },
  {
   "cell_type": "code",
   "execution_count": null,
   "metadata": {},
   "outputs": [],
   "source": [
    "liquidity_aggs.columns = ['_'.join(col) if col[1] != 'first' else col[0] for col in liquidity_aggs.columns]"
   ]
  },
  {
   "cell_type": "code",
   "execution_count": null,
   "metadata": {},
   "outputs": [],
   "source": [
    "liquidity_udpates_enhanced.to_csv(f'transaction_data/liquidity_updates_enh.csv', index=False)"
   ]
  },
  {
   "cell_type": "code",
   "execution_count": null,
   "metadata": {},
   "outputs": [],
   "source": [
    "liquidity_aggs.to_csv('transaction_data/liquidity_updates_agg.csv', index=False)"
   ]
  },
  {
   "cell_type": "code",
   "execution_count": null,
   "metadata": {},
   "outputs": [],
   "source": [
    "new_pairs.to_csv('transaction_data/new_pairs.csv', index=False)"
   ]
  },
  {
   "cell_type": "code",
   "execution_count": null,
   "metadata": {},
   "outputs": [],
   "source": []
  }
 ],
 "metadata": {
  "kernelspec": {
   "display_name": "Python 3",
   "language": "python",
   "name": "python3"
  },
  "language_info": {
   "codemirror_mode": {
    "name": "ipython",
    "version": 3
   },
   "file_extension": ".py",
   "mimetype": "text/x-python",
   "name": "python",
   "nbconvert_exporter": "python",
   "pygments_lexer": "ipython3",
   "version": "3.7.6"
  }
 },
 "nbformat": 4,
 "nbformat_minor": 4
}
